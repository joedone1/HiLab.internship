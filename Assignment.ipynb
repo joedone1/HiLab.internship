{
  "nbformat": 4,
  "nbformat_minor": 0,
  "metadata": {
    "colab": {
      "provenance": [],
      "authorship_tag": "ABX9TyOQVkFGp0MgOgP0npcKc2Ll",
      "include_colab_link": true
    },
    "kernelspec": {
      "name": "python3",
      "display_name": "Python 3"
    },
    "language_info": {
      "name": "python"
    }
  },
  "cells": [
    {
      "cell_type": "markdown",
      "metadata": {
        "id": "view-in-github",
        "colab_type": "text"
      },
      "source": [
        "<a href=\"https://colab.research.google.com/github/joedone1/HiLab.internship/blob/master/Assignment.ipynb\" target=\"_parent\"><img src=\"https://colab.research.google.com/assets/colab-badge.svg\" alt=\"Open In Colab\"/></a>"
      ]
    },
    {
      "cell_type": "code",
      "execution_count": 1,
      "metadata": {
        "colab": {
          "base_uri": "https://localhost:8080/"
        },
        "id": "VEj2WobqrNCh",
        "outputId": "0dd8aa26-f1f2-4e9e-9f2d-9d6497225bfe"
      },
      "outputs": [
        {
          "output_type": "stream",
          "name": "stdout",
          "text": [
            "[[7 8 9]\n",
            " [4 5 6]]\n",
            "[[3 2]\n",
            " [6 5]\n",
            " [9 8]]\n"
          ]
        }
      ],
      "source": [
        "import numpy as np\n",
        "\n",
        "def shift_array(array, shift_direction, shift_index, num_elements):\n",
        "    \"\"\"\n",
        "    This function shifts the elements of a 2D array in any of the four directions: up, down, left, or right.\n",
        "\n",
        "    :param array: 2D numpy array to be shifted\n",
        "    :param shift_direction: string, 'row' or 'column' indicating the direction of the shift\n",
        "    :param shift_index: integer, the index of the row or column to be shifted\n",
        "    :param num_elements: integer, the number of elements to be shifted\n",
        "    :return: 2D numpy array with the shifted elements\n",
        "    \"\"\"\n",
        "\n",
        "    if shift_direction == 'row':\n",
        "        return np.concatenate((array[shift_index+1:, :], array[shift_index:shift_index+1, :]), axis=0)\n",
        "    elif shift_direction == 'column':\n",
        "        return np.concatenate((array[:, shift_index+1:], array[:, shift_index:shift_index+1]), axis=1)\n",
        "    else:\n",
        "        raise ValueError(\"shift_direction should be either 'row' or 'column'\")\n",
        "\n",
        "# Testing the function\n",
        "arr = np.array([[1, 2, 3], [4, 5, 6], [7, 8, 9]])\n",
        "\n",
        "shifted_arr = shift_array(arr, 'row', 1, 2)\n",
        "print(shifted_arr)\n",
        "\n",
        "shifted_arr = shift_array(arr, 'column', 1, 2)\n",
        "print(shifted_arr)"
      ]
    },
    {
      "cell_type": "code",
      "source": [
        "def shift_list(input_list, index):\n",
        "    \"\"\"\n",
        "    This function splits a list by an index, then cuts the list from that index and attaches the right part to the beginning of the list.\n",
        "\n",
        "    :param input_list: list to be shifted\n",
        "    :param index: integer, the index at which to split the list\n",
        "    :return: list with the shifted elements\n",
        "    \"\"\"\n",
        "\n",
        "    left_part = input_list[:index]\n",
        "    right_part = input_list[index:]\n",
        "\n",
        "    shifted_list = right_part + left_part\n",
        "\n",
        "    return shifted_list\n",
        "\n",
        "# Testing the function\n",
        "my_list = [1, 2, 3, 4, 5, 6, 7]\n",
        "index = 4\n",
        "\n",
        "shifted_list = shift_list(my_list, index)\n",
        "print(shifted_list)"
      ],
      "metadata": {
        "colab": {
          "base_uri": "https://localhost:8080/"
        },
        "id": "3MTk-gsqtD1j",
        "outputId": "7b651bf8-f7a5-481d-fc46-c9b447837296"
      },
      "execution_count": 2,
      "outputs": [
        {
          "output_type": "stream",
          "name": "stdout",
          "text": [
            "[5, 6, 7, 1, 2, 3, 4]\n"
          ]
        }
      ]
    }
  ]
}