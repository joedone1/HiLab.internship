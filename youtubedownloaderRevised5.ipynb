{
  "nbformat": 4,
  "nbformat_minor": 0,
  "metadata": {
    "colab": {
      "provenance": [],
      "name": "youtubedownloaderRevised5.ipynb",
      "authorship_tag": "ABX9TyPBR86N7u/OdLfz52P680ME",
      "include_colab_link": true
    },
    "kernelspec": {
      "name": "python3",
      "display_name": "Python 3"
    },
    "language_info": {
      "name": "python"
    }
  },
  "cells": [
    {
      "cell_type": "markdown",
      "metadata": {
        "id": "view-in-github",
        "colab_type": "text"
      },
      "source": [
        "<a href=\"https://colab.research.google.com/github/joedone1/HiLab.internship/blob/master/youtubedownloaderRevised5.ipynb\" target=\"_parent\"><img src=\"https://colab.research.google.com/assets/colab-badge.svg\" alt=\"Open In Colab\"/></a>"
      ]
    },
    {
      "cell_type": "code",
      "execution_count": null,
      "metadata": {
        "colab": {
          "base_uri": "https://localhost:8080/"
        },
        "id": "OGE3EwOkpb5L",
        "outputId": "86f72a9c-8e06-4658-ca56-c6743c2295d2"
      },
      "outputs": [
        {
          "output_type": "stream",
          "name": "stdout",
          "text": [
            "Collecting pytube\n",
            "  Downloading pytube-15.0.0-py3-none-any.whl (57 kB)\n",
            "\u001b[?25l     \u001b[90m━━━━━━━━━━━━━━━━━━━━━━━━━━━━━━━━━━━━━━━━\u001b[0m \u001b[32m0.0/57.6 kB\u001b[0m \u001b[31m?\u001b[0m eta \u001b[36m-:--:--\u001b[0m\r\u001b[2K     \u001b[90m━━━━━━━━━━━━━━━━━━━━━━━━━━━━━━━━━━━━━━━━\u001b[0m \u001b[32m57.6/57.6 kB\u001b[0m \u001b[31m1.5 MB/s\u001b[0m eta \u001b[36m0:00:00\u001b[0m\n",
            "\u001b[?25hInstalling collected packages: pytube\n",
            "Successfully installed pytube-15.0.0\n",
            "Enter a YouTube video URL: https://www.youtube.com/watch?v=oAZ4uS9ei-A\n",
            "Downloaded Online Banking System Project in Python Django, Web App, Free to the downloads directory.\n"
          ]
        }
      ],
      "source": [
        "!pip install pytube\n",
        "import pytube\n",
        "import os\n",
        "\n",
        "def download_video(url):\n",
        "    # Create the output directory if it doesn't exist\n",
        "    if not os.path.exists('downloads'):\n",
        "        os.makedirs('downloads')\n",
        "\n",
        "    # Use the YouTube() class to get video details\n",
        "    yt = pytube.YouTube(url)\n",
        "\n",
        "    # Get the video stream with the highest resolution and bitrate\n",
        "    stream = yt.streams.get_highest_resolution()\n",
        "\n",
        "    # Download the video stream and save it to the output directory\n",
        "    stream.download('downloads')\n",
        "\n",
        "    print(f'Downloaded {yt.title} to the downloads directory.')\n",
        "\n",
        "if __name__ == '__main__':\n",
        "    # Ask the user to enter a YouTube video URL\n",
        "    url = input('Enter a YouTube video URL: ')\n",
        "\n",
        "    # Call the download_video() function with the entered URL\n",
        "    download_video(url)"
      ]
    }
  ]
}